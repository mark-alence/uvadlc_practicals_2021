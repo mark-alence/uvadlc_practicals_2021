{
 "cells": [
  {
   "cell_type": "code",
   "execution_count": 12,
   "metadata": {},
   "outputs": [],
   "source": [
    "from da import *\n",
    "from torch_geometric.loader import DataLoader\n",
    "import numpy as np\n",
    "import matplotlib.pyplot as plt"
   ]
  },
  {
   "cell_type": "code",
   "execution_count": 13,
   "metadata": {},
   "outputs": [],
   "source": [
    "data_dir = \"data/\"\n",
    "model = \"mlp\"\n",
    "batch_size = 128\n",
    "train, valid, test = get_qm9(data_dir, \"cpu\")\n",
    "train_dataloader = DataLoader(\n",
    "    train,\n",
    "    batch_size=batch_size,\n",
    "    shuffle=True,\n",
    "    drop_last=True,\n",
    "    exclude_keys=[\"pos\", \"idx\", \"z\", \"name\"],\n",
    ")\n",
    "valid_dataloader = DataLoader(\n",
    "    valid, batch_size=batch_size, exclude_keys=[\"pos\", \"idx\", \"z\", \"name\"]\n",
    ")\n",
    "test_dataloader = DataLoader(\n",
    "    test, batch_size=batch_size, exclude_keys=[\"pos\", \"idx\", \"z\", \"name\"]\n",
    ")"
   ]
  },
  {
   "cell_type": "code",
   "execution_count": 14,
   "metadata": {},
   "outputs": [
    {
     "name": "stdout",
     "output_type": "stream",
     "text": [
      "Data(x=[21, 11], edge_index=[2, 46], edge_attr=[46, 4], y=[1, 19], pos=[21, 3], idx=[1], name='gdb_72082', z=[21])\n",
      "Data(x=[19, 11], edge_index=[2, 38], edge_attr=[38, 4], y=[1, 19], pos=[19, 3], idx=[1], name='gdb_53572', z=[19])\n",
      "Data(x=[19, 11], edge_index=[2, 40], edge_attr=[40, 4], y=[1, 19], pos=[19, 3], idx=[1], name='gdb_115905', z=[19])\n",
      "Data(x=[11, 11], edge_index=[2, 22], edge_attr=[22, 4], y=[1, 19], pos=[11, 3], idx=[1], name='gdb_207', z=[11])\n",
      "Data(x=[21, 11], edge_index=[2, 44], edge_attr=[44, 4], y=[1, 19], pos=[21, 3], idx=[1], name='gdb_119395', z=[21])\n",
      "Data(x=[18, 11], edge_index=[2, 36], edge_attr=[36, 4], y=[1, 19], pos=[18, 3], idx=[1], name='gdb_127460', z=[18])\n",
      "Data(x=[15, 11], edge_index=[2, 28], edge_attr=[28, 4], y=[1, 19], pos=[15, 3], idx=[1], name='gdb_117023', z=[15])\n",
      "Data(x=[19, 11], edge_index=[2, 38], edge_attr=[38, 4], y=[1, 19], pos=[19, 3], idx=[1], name='gdb_88251', z=[19])\n",
      "Data(x=[17, 11], edge_index=[2, 38], edge_attr=[38, 4], y=[1, 19], pos=[17, 3], idx=[1], name='gdb_19884', z=[17])\n",
      "Data(x=[18, 11], edge_index=[2, 36], edge_attr=[36, 4], y=[1, 19], pos=[18, 3], idx=[1], name='gdb_128853', z=[18])\n"
     ]
    }
   ],
   "source": [
    "for i in train[0:10]:\n",
    "    print(i)"
   ]
  },
  {
   "cell_type": "code",
   "execution_count": 15,
   "metadata": {},
   "outputs": [],
   "source": [
    "z = np.load('MLP_train_loss.npy')\n",
    "zz = np.load('GNN_train_loss.npy')"
   ]
  },
  {
   "cell_type": "code",
   "execution_count": 16,
   "metadata": {},
   "outputs": [
    {
     "data": {
      "text/plain": [
       "array([0.04875939, 0.00380051, 0.00149366, 0.00105857, 0.00061249,\n",
       "       0.00040451, 0.00026643, 0.00022564, 0.00015965, 0.00011602,\n",
       "       0.00660925])"
      ]
     },
     "execution_count": 16,
     "metadata": {},
     "output_type": "execute_result"
    }
   ],
   "source": [
    "z"
   ]
  },
  {
   "cell_type": "code",
   "execution_count": 17,
   "metadata": {},
   "outputs": [
    {
     "data": {
      "text/plain": [
       "array([0.33601444, 0.20643579, 0.07532637, 0.01751628, 0.00584865,\n",
       "       0.00242298, 0.00138559, 0.00105401, 0.00070365, 0.00060514,\n",
       "       0.00616441])"
      ]
     },
     "execution_count": 17,
     "metadata": {},
     "output_type": "execute_result"
    }
   ],
   "source": [
    "zz"
   ]
  },
  {
   "cell_type": "code",
   "execution_count": 18,
   "metadata": {},
   "outputs": [
    {
     "data": {
      "image/png": "[encoded data removed]",
      "text/plain": [
       "<Figure size 432x288 with 1 Axes>"
      ]
     },
     "metadata": {
      "needs_background": "light"
     },
     "output_type": "display_data"
    }
   ],
   "source": [
    "plt.plot(np.arange(10), z[:10])\n",
    "plt.plot(np.arange(10), zz[:10])\n",
    "plt.show()"
   ]
  },
  {
   "cell_type": "code",
   "execution_count": 19,
   "metadata": {},
   "outputs": [
    {
     "data": {
      "text/plain": [
       "0.006609253782786957"
      ]
     },
     "execution_count": 19,
     "metadata": {},
     "output_type": "execute_result"
    }
   ],
   "source": [
    "z[10]"
   ]
  },
  {
   "cell_type": "code",
   "execution_count": 20,
   "metadata": {},
   "outputs": [
    {
     "data": {
      "text/plain": [
       "0.006164412615498823"
      ]
     },
     "execution_count": 20,
     "metadata": {},
     "output_type": "execute_result"
    }
   ],
   "source": [
    "zz[10]"
   ]
  },
  {
   "cell_type": "code",
   "execution_count": null,
   "metadata": {},
   "outputs": [],
   "source": []
  }
 ],
 "metadata": {
  "kernelspec": {
   "display_name": "Python 3",
   "language": "python",
   "name": "python3"
  },
  "language_info": {
   "codemirror_mode": {
    "name": "ipython",
    "version": 3
   },
   "file_extension": ".py",
   "mimetype": "text/x-python",
   "name": "python",
   "nbconvert_exporter": "python",
   "pygments_lexer": "ipython3",
   "version": "3.8.3"
  }
 },
 "nbformat": 4,
 "nbformat_minor": 4
}
